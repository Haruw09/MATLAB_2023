{
  "nbformat": 4,
  "nbformat_minor": 0,
  "metadata": {
    "colab": {
      "provenance": [],
      "gpuType": "T4",
      "include_colab_link": true
    },
    "kernelspec": {
      "name": "python3",
      "display_name": "Python 3"
    },
    "language_info": {
      "name": "python"
    },
    "accelerator": "GPU"
  },
  "cells": [
    {
      "cell_type": "markdown",
      "metadata": {
        "id": "view-in-github",
        "colab_type": "text"
      },
      "source": [
        "<a href=\"https://colab.research.google.com/github/Haruw09/MATLAB_2023/blob/main/Colab_MD_water_HW_dipeptide.ipynb\" target=\"_parent\"><img src=\"https://colab.research.google.com/assets/colab-badge.svg\" alt=\"Open In Colab\"/></a>"
      ]
    },
    {
      "cell_type": "markdown",
      "source": [
        "**Installation of GROMACS**\n",
        "\n",
        "https://manual.gromacs.org/2024.0/index.html\n",
        "\n",
        "https://doi.org/10.1016/j.softx.2015.06.001"
      ],
      "metadata": {
        "id": "x6WG6rInLYe5"
      }
    },
    {
      "cell_type": "code",
      "execution_count": 1,
      "metadata": {
        "id": "EUVbsuTFKwHi",
        "outputId": "b1ad2250-ab8e-4930-ac76-829c3380ebe5",
        "colab": {
          "base_uri": "https://localhost:8080/"
        }
      },
      "outputs": [
        {
          "output_type": "stream",
          "name": "stdout",
          "text": [
            "--2024-03-26 15:51:26--  https://ftp.gromacs.org/gromacs/gromacs-2024.tar.gz\n",
            "Resolving ftp.gromacs.org (ftp.gromacs.org)... 130.237.11.165, 2001:6b0:1:1191:216:3eff:fec7:6e30\n",
            "Connecting to ftp.gromacs.org (ftp.gromacs.org)|130.237.11.165|:443... connected.\n",
            "HTTP request sent, awaiting response... 200 OK\n",
            "Length: 42455653 (40M) [application/x-gzip]\n",
            "Saving to: ‘gromacs-2024.tar.gz’\n",
            "\n",
            "gromacs-2024.tar.gz 100%[===================>]  40.49M  16.1MB/s    in 2.5s    \n",
            "\n",
            "2024-03-26 15:51:29 (16.1 MB/s) - ‘gromacs-2024.tar.gz’ saved [42455653/42455653]\n",
            "\n"
          ]
        }
      ],
      "source": [
        "#Downloading GROMACS 2024\n",
        "\n",
        "!wget https://ftp.gromacs.org/gromacs/gromacs-2024.tar.gz"
      ]
    },
    {
      "cell_type": "code",
      "source": [
        "%%bash\n",
        "\n",
        "#Extracting and Installing GROMACS 2024 onto a user-defined folder\n",
        "#First, we extract the downloaded folder containing GROMACS-2024\n",
        "\n",
        "tar xfz gromacs-2024.tar.gz # tar - archive, gz - gzip compression\n",
        "\n",
        "echo \"GROMACS extraction completed\"\n",
        "\n",
        "#Then, we create a \"build\" folder inside the extracted folder\n",
        "\n",
        "cd gromacs-2024\n",
        "\n",
        "mkdir build\n",
        "\n",
        "#Next, we setup our GROMACS 2024 installation options, including GPU and a user-defined folder\n",
        "\n",
        "cd build\n",
        "\n",
        "cmake .. -DGMX_BUILD_OWN_FFTW=ON -DGMX_GPU=CUDA -DCMAKE_INSTALL_PREFIX=/content/gromacs-24\n",
        "echo \"GROMACS set up completed\""
      ],
      "metadata": {
        "id": "SSG-nfBTL_9c",
        "outputId": "f992b0da-9802-4950-eaa1-8c195271fc36",
        "colab": {
          "base_uri": "https://localhost:8080/"
        }
      },
      "execution_count": 2,
      "outputs": [
        {
          "output_type": "stream",
          "name": "stdout",
          "text": [
            "GROMACS extraction completed\n",
            "-- The C compiler identification is GNU 11.4.0\n",
            "-- The CXX compiler identification is GNU 11.4.0\n",
            "-- Detecting C compiler ABI info\n",
            "-- Detecting C compiler ABI info - done\n",
            "-- Check for working C compiler: /usr/bin/cc - skipped\n",
            "-- Detecting C compile features\n",
            "-- Detecting C compile features - done\n",
            "-- Detecting CXX compiler ABI info\n",
            "-- Detecting CXX compiler ABI info - done\n",
            "-- Check for working CXX compiler: /usr/bin/c++ - skipped\n",
            "-- Detecting CXX compile features\n",
            "-- Detecting CXX compile features - done\n",
            "-- Found Python3: /usr/local/bin/python (found suitable version \"3.10.12\", minimum required is \"3.7\") found components: Interpreter Development Development.Module Development.Embed \n",
            "-- Selected GPU FFT library - cuFFT\n",
            "-- Found OpenMP_C: -fopenmp (found version \"4.5\") \n",
            "-- Found OpenMP_CXX: -fopenmp (found version \"4.5\") \n",
            "-- Found OpenMP: TRUE (found version \"4.5\")  \n",
            "-- Performing Test CFLAGS_WARN_NO_MISSING_FIELD_INITIALIZERS\n",
            "-- Performing Test CFLAGS_WARN_NO_MISSING_FIELD_INITIALIZERS - Success\n",
            "-- Performing Test CFLAGS_EXCESS_PREC\n",
            "-- Performing Test CFLAGS_EXCESS_PREC - Success\n",
            "-- Performing Test CFLAGS_COPT\n",
            "-- Performing Test CFLAGS_COPT - Success\n",
            "-- Performing Test CFLAGS_NOINLINE\n",
            "-- Performing Test CFLAGS_NOINLINE - Success\n",
            "-- Performing Test CXXFLAGS_WARN_NO_MISSING_FIELD_INITIALIZERS\n",
            "-- Performing Test CXXFLAGS_WARN_NO_MISSING_FIELD_INITIALIZERS - Success\n",
            "-- Performing Test CXXFLAGS_EXCESS_PREC\n",
            "-- Performing Test CXXFLAGS_EXCESS_PREC - Success\n",
            "-- Performing Test CXXFLAGS_COPT\n",
            "-- Performing Test CXXFLAGS_COPT - Success\n",
            "-- Performing Test CXXFLAGS_NOINLINE\n",
            "-- Performing Test CXXFLAGS_NOINLINE - Success\n",
            "-- Looking for include file unistd.h\n",
            "-- Looking for include file unistd.h - found\n",
            "-- Looking for include file pwd.h\n",
            "-- Looking for include file pwd.h - found\n",
            "-- Looking for include file dirent.h\n",
            "-- Looking for include file dirent.h - found\n",
            "-- Looking for include file time.h\n",
            "-- Looking for include file time.h - found\n",
            "-- Looking for include file sys/time.h\n",
            "-- Looking for include file sys/time.h - found\n",
            "-- Looking for include file io.h\n",
            "-- Looking for include file io.h - not found\n",
            "-- Looking for include file sched.h\n",
            "-- Looking for include file sched.h - found\n",
            "-- Looking for include file xmmintrin.h\n",
            "-- Looking for include file xmmintrin.h - found\n",
            "-- Looking for gettimeofday\n",
            "-- Looking for gettimeofday - found\n",
            "-- Looking for sysconf\n",
            "-- Looking for sysconf - found\n",
            "-- Looking for nice\n",
            "-- Looking for nice - found\n",
            "-- Looking for fsync\n",
            "-- Looking for fsync - found\n",
            "-- Looking for _fileno\n",
            "-- Looking for _fileno - not found\n",
            "-- Looking for fileno\n",
            "-- Looking for fileno - found\n",
            "-- Looking for _commit\n",
            "-- Looking for _commit - not found\n",
            "-- Looking for sigaction\n",
            "-- Looking for sigaction - found\n",
            "-- Performing Test HAVE_BUILTIN_CLZ\n",
            "-- Performing Test HAVE_BUILTIN_CLZ - Success\n",
            "-- Performing Test HAVE_BUILTIN_CLZLL\n",
            "-- Performing Test HAVE_BUILTIN_CLZLL - Success\n",
            "-- Looking for clock_gettime in rt\n",
            "-- Looking for clock_gettime in rt - found\n",
            "-- Looking for feenableexcept in m\n",
            "-- Looking for feenableexcept in m - found\n",
            "-- Looking for fedisableexcept in m\n",
            "-- Looking for fedisableexcept in m - found\n",
            "-- Checking for sched.h GNU affinity API\n",
            "-- Performing Test sched_affinity_compile\n",
            "-- Performing Test sched_affinity_compile - Success\n",
            "-- Looking for include file mm_malloc.h\n",
            "-- Looking for include file mm_malloc.h - found\n",
            "-- Looking for include file malloc.h\n",
            "-- Looking for include file malloc.h - found\n",
            "-- Checking for _mm_malloc()\n",
            "-- Checking for _mm_malloc() - supported\n",
            "-- Looking for posix_memalign\n",
            "-- Looking for posix_memalign - found\n",
            "-- Looking for memalign\n",
            "-- Looking for memalign - not found\n",
            "-- Using default binary suffix: \"\"\n",
            "-- Using default library suffix: \"\"\n",
            "-- Performing Test CMAKE_HAVE_LIBC_PTHREAD\n",
            "-- Performing Test CMAKE_HAVE_LIBC_PTHREAD - Success\n",
            "-- Found Threads: TRUE  \n",
            "-- Looking for C++ include pthread.h\n",
            "-- Looking for C++ include pthread.h - found\n",
            "-- Performing Test TEST_ATOMICS\n",
            "-- Performing Test TEST_ATOMICS - Success\n",
            "-- Atomic operations found\n",
            "-- Performing Test PTHREAD_SETAFFINITY\n",
            "-- Performing Test PTHREAD_SETAFFINITY - Success\n",
            "-- Detecting best SIMD instructions for this CPU\n",
            "-- Checking for GCC x86 inline asm\n",
            "-- Checking for GCC x86 inline asm - supported\n",
            "-- Detected build CPU features - aes apic avx avx2 clfsh cmov cx8 cx16 f16c fma htt intel lahf mmx msr nonstop_tsc pcid pclmuldq pdpe1gb popcnt pse rdrnd rdtscp sse2 sse3 sse4.1 sse4.2 ssse3 x2apic\n",
            "-- Detected build CPU brand - Intel(R) Xeon(R) CPU @ 2.30GHz\n",
            "-- Detected best SIMD instructions for this CPU - AVX2_256\n",
            "-- Performing Test C_mavx2_mfma_FLAG_ACCEPTED\n",
            "-- Performing Test C_mavx2_mfma_FLAG_ACCEPTED - Success\n",
            "-- Performing Test C_mavx2_mfma_COMPILE_WORKS\n",
            "-- Performing Test C_mavx2_mfma_COMPILE_WORKS - Success\n",
            "-- Performing Test CXX_mavx2_mfma_FLAG_ACCEPTED\n",
            "-- Performing Test CXX_mavx2_mfma_FLAG_ACCEPTED - Success\n",
            "-- Performing Test CXX_mavx2_mfma_COMPILE_WORKS\n",
            "-- Performing Test CXX_mavx2_mfma_COMPILE_WORKS - Success\n",
            "-- Enabling 256-bit AVX2 SIMD instructions using CXX flags:  -mavx2 -mfma\n",
            "-- Detecting flags to enable runtime detection of AVX-512 units on newer CPUs\n",
            "-- Performing Test C_xCORE_AVX512_qopt_zmm_usage_high_FLAG_ACCEPTED\n",
            "-- Performing Test C_xCORE_AVX512_qopt_zmm_usage_high_FLAG_ACCEPTED - Failed\n",
            "-- Performing Test C_xCORE_AVX512_FLAG_ACCEPTED\n",
            "-- Performing Test C_xCORE_AVX512_FLAG_ACCEPTED - Failed\n",
            "-- Performing Test C_mavx512f_mfma_mavx512vl_mavx512dq_mavx512bw_FLAG_ACCEPTED\n",
            "-- Performing Test C_mavx512f_mfma_mavx512vl_mavx512dq_mavx512bw_FLAG_ACCEPTED - Success\n",
            "-- Performing Test C_mavx512f_mfma_mavx512vl_mavx512dq_mavx512bw_COMPILE_WORKS\n",
            "-- Performing Test C_mavx512f_mfma_mavx512vl_mavx512dq_mavx512bw_COMPILE_WORKS - Success\n",
            "-- Performing Test CXX_xCORE_AVX512_qopt_zmm_usage_high_FLAG_ACCEPTED\n",
            "-- Performing Test CXX_xCORE_AVX512_qopt_zmm_usage_high_FLAG_ACCEPTED - Failed\n",
            "-- Performing Test CXX_xCORE_AVX512_FLAG_ACCEPTED\n",
            "-- Performing Test CXX_xCORE_AVX512_FLAG_ACCEPTED - Failed\n",
            "-- Performing Test CXX_mavx512f_mfma_mavx512vl_mavx512dq_mavx512bw_FLAG_ACCEPTED\n",
            "-- Performing Test CXX_mavx512f_mfma_mavx512vl_mavx512dq_mavx512bw_FLAG_ACCEPTED - Success\n",
            "-- Performing Test CXX_mavx512f_mfma_mavx512vl_mavx512dq_mavx512bw_COMPILE_WORKS\n",
            "-- Performing Test CXX_mavx512f_mfma_mavx512vl_mavx512dq_mavx512bw_COMPILE_WORKS - Success\n",
            "-- Detecting flags to enable runtime detection of AVX-512 units on newer CPUs -  -mavx512f -mfma -mavx512vl -mavx512dq -mavx512bw\n",
            "-- Performing Test _Wno_unused_command_line_argument_FLAG_ACCEPTED\n",
            "-- Performing Test _Wno_unused_command_line_argument_FLAG_ACCEPTED - Success\n",
            "-- Performing Test _callconv___vectorcall\n",
            "-- Performing Test _callconv___vectorcall - Failed\n",
            "-- Performing Test _callconv___regcall\n",
            "-- Performing Test _callconv___regcall - Failed\n",
            "-- Performing Test _callconv_ \n",
            "-- Performing Test _callconv_  - Success\n",
            "-- Found CUDA: /usr/local/cuda (found suitable version \"12.2\", minimum required is \"11.0\") \n",
            "-- Adding work-around for issue compiling CUDA code with glibc 2.23 string.h\n",
            "-- Check for working NVCC/C++ compiler combination with nvcc '/usr/local/cuda/bin/nvcc'\n",
            "-- Check for working NVCC/C++ compiler combination - works\n",
            "-- Checking if nvcc accepts flags --generate-code=arch=compute_35,code=sm_35\n",
            "-- Checking if nvcc accepts flags --generate-code=arch=compute_35,code=sm_35 - No\n",
            "-- Checking if nvcc accepts flags --generate-code=arch=compute_37,code=sm_37\n",
            "-- Checking if nvcc accepts flags --generate-code=arch=compute_37,code=sm_37 - No\n",
            "-- Checking if nvcc accepts flags --generate-code=arch=compute_50,code=sm_50\n",
            "-- Checking if nvcc accepts flags --generate-code=arch=compute_50,code=sm_50 - Success\n",
            "-- Checking if nvcc accepts flags --generate-code=arch=compute_52,code=sm_52\n",
            "-- Checking if nvcc accepts flags --generate-code=arch=compute_52,code=sm_52 - Success\n",
            "-- Checking if nvcc accepts flags --generate-code=arch=compute_60,code=sm_60\n",
            "-- Checking if nvcc accepts flags --generate-code=arch=compute_60,code=sm_60 - Success\n",
            "-- Checking if nvcc accepts flags --generate-code=arch=compute_61,code=sm_61\n",
            "-- Checking if nvcc accepts flags --generate-code=arch=compute_61,code=sm_61 - Success\n",
            "-- Checking if nvcc accepts flags --generate-code=arch=compute_70,code=sm_70\n",
            "-- Checking if nvcc accepts flags --generate-code=arch=compute_70,code=sm_70 - Success\n",
            "-- Checking if nvcc accepts flags --generate-code=arch=compute_75,code=sm_75\n",
            "-- Checking if nvcc accepts flags --generate-code=arch=compute_75,code=sm_75 - Success\n",
            "-- Checking if nvcc accepts flags --generate-code=arch=compute_80,code=sm_80\n",
            "-- Checking if nvcc accepts flags --generate-code=arch=compute_80,code=sm_80 - Success\n",
            "-- Checking if nvcc accepts flags --generate-code=arch=compute_86,code=sm_86\n",
            "-- Checking if nvcc accepts flags --generate-code=arch=compute_86,code=sm_86 - Success\n",
            "-- Checking if nvcc accepts flags --generate-code=arch=compute_89,code=sm_89\n",
            "-- Checking if nvcc accepts flags --generate-code=arch=compute_89,code=sm_89 - Success\n",
            "-- Checking if nvcc accepts flags --generate-code=arch=compute_90,code=sm_90\n",
            "-- Checking if nvcc accepts flags --generate-code=arch=compute_90,code=sm_90 - Success\n",
            "-- Checking if nvcc accepts flags -Wno-deprecated-gpu-targets\n",
            "-- Checking if nvcc accepts flags -Wno-deprecated-gpu-targets - Success\n",
            "-- Checking if nvcc accepts flags --generate-code=arch=compute_53,code=sm_53\n",
            "-- Checking if nvcc accepts flags --generate-code=arch=compute_53,code=sm_53 - Success\n",
            "-- Checking if nvcc accepts flags --generate-code=arch=compute_80,code=sm_80\n",
            "-- Checking if nvcc accepts flags --generate-code=arch=compute_80,code=sm_80 - Success\n",
            "-- Checking if nvcc accepts flags -use_fast_math\n",
            "-- Checking if nvcc accepts flags -use_fast_math - Success\n",
            "-- Checking if nvcc accepts flags -Xptxas;-warn-double-usage\n",
            "-- Checking if nvcc accepts flags -Xptxas;-warn-double-usage - Success\n",
            "-- Checking if nvcc accepts flags -Xptxas;-Werror\n",
            "-- Checking if nvcc accepts flags -Xptxas;-Werror - Success\n",
            "-- The CUDA compiler identification is NVIDIA 12.2.140\n",
            "-- Detecting CUDA compiler ABI info\n",
            "-- Detecting CUDA compiler ABI info - done\n",
            "-- Check for working CUDA compiler: /usr/local/cuda/bin/nvcc - skipped\n",
            "-- Detecting CUDA compile features\n",
            "-- Detecting CUDA compile features - done\n",
            "-- Detected build CPU vendor - Intel\n",
            "-- Detected build CPU family - 6\n",
            "-- Detected build CPU model - 63\n",
            "-- Detected build CPU stepping - 0\n",
            "-- Checking for 64-bit off_t\n",
            "-- Checking for 64-bit off_t - present\n",
            "-- Checking for fseeko/ftello\n",
            "-- Checking for fseeko/ftello - present\n",
            "-- Checking for SIGUSR1\n",
            "-- Checking for SIGUSR1 - found\n",
            "-- Checking for pipe support\n",
            "-- Checking for system XDR support\n",
            "-- Checking for system XDR support - not present\n",
            "-- The GROMACS-managed build of FFTW 3 will configure with the following optimizations: --enable-sse2;--enable-avx;--enable-avx2\n",
            "-- Using external FFT library - FFTW3 build managed by GROMACS\n",
            "-- Looking for sgemm_\n",
            "-- Looking for sgemm_ - not found\n",
            "-- Looking for sgemm_\n",
            "-- Looking for sgemm_ - found\n",
            "-- Found BLAS: /usr/lib/x86_64-linux-gnu/libmkl_intel_lp64.so;/usr/lib/x86_64-linux-gnu/libmkl_intel_thread.so;/usr/lib/x86_64-linux-gnu/libmkl_core.so;/usr/local/lib/libiomp5.so;-lm;-ldl  \n",
            "-- Looking for cheev_\n",
            "-- Looking for cheev_ - found\n",
            "-- Found LAPACK: /usr/lib/x86_64-linux-gnu/libmkl_intel_lp64.so;/usr/lib/x86_64-linux-gnu/libmkl_intel_thread.so;/usr/lib/x86_64-linux-gnu/libmkl_core.so;/usr/local/lib/libiomp5.so;-lm;-ldl;-lm;-ldl  \n",
            "-- Could not convert sample image, ImageMagick convert can not be used. A possible way to fix it can be found here: https://alexvanderbist.com/2018/fixing-imagick-error-unauthorized\n",
            "-- Performing Test HAS_WARNING_EVERYTHING\n",
            "-- Performing Test HAS_WARNING_EVERYTHING - Failed\n",
            "-- Found CUDAToolkit: /usr/local/cuda/include (found version \"12.2.140\") \n",
            "-- Could NOT find Doxygen (missing: DOXYGEN_EXECUTABLE) \n",
            "-- Doxygen not found. Documentation targets will not be generated.\n",
            "-- Found Python: /usr/local/bin/python (found version \"3.10.12\") found components: Interpreter \n",
            "-- Performing Test HAVE_NO_DEPRECATED_COPY\n",
            "-- Performing Test HAVE_NO_DEPRECATED_COPY - Success\n",
            "-- Performing Test CXXFLAGS_WARN_NOUNDEF\n",
            "-- Performing Test CXXFLAGS_WARN_NOUNDEF - Success\n",
            "-- Performing Test HAS_NO_STRINGOP_TRUNCATION\n",
            "-- Performing Test HAS_NO_STRINGOP_TRUNCATION - Success\n",
            "-- Performing Test HAS_WARNING_NO_CAST_FUNCTION_TYPE_STRICT\n",
            "-- Performing Test HAS_WARNING_NO_CAST_FUNCTION_TYPE_STRICT - Success\n",
            "-- Performing Test HAS_NO_UNUSED\n",
            "-- Performing Test HAS_NO_UNUSED - Success\n",
            "-- Performing Test HAS_NO_UNUSED_PARAMETER\n",
            "-- Performing Test HAS_NO_UNUSED_PARAMETER - Success\n",
            "-- Performing Test HAS_NO_MISSING_DECLARATIONS\n",
            "-- Performing Test HAS_NO_MISSING_DECLARATIONS - Success\n",
            "-- Performing Test HAS_NO_NULL_CONVERSIONS\n",
            "-- Performing Test HAS_NO_NULL_CONVERSIONS - Success\n",
            "-- Looking for inttypes.h\n",
            "-- Looking for inttypes.h - found\n",
            "-- Performing Test HAS_WARNING_NO_ARRAY_BOUNDS\n",
            "-- Performing Test HAS_WARNING_NO_ARRAY_BOUNDS - Success\n",
            "-- Performing Test HAS_WARNING_NO_DEPRECATED_NON_PROTOTYPE\n",
            "-- Performing Test HAS_WARNING_NO_DEPRECATED_NON_PROTOTYPE - Success\n",
            "-- Performing Test COMPILER_HAS_HIDDEN_VISIBILITY\n",
            "-- Performing Test COMPILER_HAS_HIDDEN_VISIBILITY - Success\n",
            "-- Performing Test COMPILER_HAS_HIDDEN_INLINE_VISIBILITY\n",
            "-- Performing Test COMPILER_HAS_HIDDEN_INLINE_VISIBILITY - Success\n",
            "-- Performing Test COMPILER_HAS_DEPRECATED_ATTR\n",
            "-- Performing Test COMPILER_HAS_DEPRECATED_ATTR - Success\n",
            "-- Found Sphinx: /usr/local/bin/sphinx-build (found suitable version \"5.0.2\", minimum required is \"4.0.0\") found components: pygments \n",
            "-- Configuring done (46.4s)\n",
            "-- Generating done (0.7s)\n",
            "-- Build files have been written to: /content/gromacs-2024/build\n",
            "GROMACS set up completed\n"
          ]
        }
      ]
    },
    {
      "cell_type": "code",
      "source": [
        "%%bash\n",
        "\n",
        "cd /content/gromacs-2024/build\n",
        "\n",
        "make\n",
        "echo \"GROMACS building completed\"\n",
        "\n",
        "#make check\n",
        "#echo \"GROMACS testing completed\"\n",
        "\n",
        "make install\n",
        "echo \"GROMACS installation completed. Please check if any errors occurred during installation\""
      ],
      "metadata": {
        "id": "5QOXPnZjD5YS"
      },
      "execution_count": null,
      "outputs": []
    },
    {
      "cell_type": "code",
      "source": [
        "%%bash\n",
        "\n",
        "##Checking that GROMACS was successfully installed\n",
        "\n",
        "source /content/gromacs-24/bin/GMXRC\n",
        "\n",
        "gmx -h"
      ],
      "metadata": {
        "id": "HqANTGUiMtTs"
      },
      "execution_count": null,
      "outputs": []
    },
    {
      "cell_type": "code",
      "source": [
        "#First, we will mount your Google Drive to be able to transfer files\n",
        "#You will be requested to authorize this Google Drive mounting\n",
        "\n",
        "from google.colab import drive\n",
        "\n",
        "drive.mount('/content/gdrive')"
      ],
      "metadata": {
        "id": "DhJIiSLiMuuK"
      },
      "execution_count": null,
      "outputs": []
    },
    {
      "cell_type": "code",
      "source": [
        "#Copying your compiled GROMACS to your Google Drive\n",
        "#We will create and/or use the MDSim folder to create a folder for compiled programs\n",
        "\n",
        "import os\n",
        "import shutil\n",
        "from pathlib import Path\n",
        "\n",
        "MDSim = Path(\"/content/gdrive/My Drive/MDSim\")\n",
        "\n",
        "if os.path.exists(MDSim):\n",
        "  print(\"MDSim already exists\")\n",
        "if not os.path.exists(MDSim):\n",
        "  os.mkdir(MDSim)\n",
        "  print(\"MDSim did not exists and was succesfully created\")\n",
        "\n",
        "#Then, we will copy the compiled GROMACS to this folder\n",
        "\n",
        "#shutil.copytree(str('/content/gromacs-2024'), str(MDSim/'gromacs-2024'))\n",
        "shutil.copytree(str('/content/gromacs-24'), str(MDSim/'gromacs-24'))\n",
        "\n",
        "#!cp -r /content/gromacs-24 \"$MDSimulations\"/gromacs-24\n",
        "\n",
        "print(\"GROMACS successfully backed up!\")"
      ],
      "metadata": {
        "id": "ulQDXdmfM8bC"
      },
      "execution_count": null,
      "outputs": []
    },
    {
      "cell_type": "code",
      "source": [
        "#%%bash\n",
        "\n",
        "#wget https://zenodo.org/records/10822792/files/gromacs-24.zip\n",
        "\n",
        "#unzip gromacs-24.zip"
      ],
      "metadata": {
        "id": "yhLe7eYQvfHr"
      },
      "execution_count": null,
      "outputs": []
    },
    {
      "cell_type": "markdown",
      "source": [
        "**Setting up the MD simulation system: TIP3P water box**"
      ],
      "metadata": {
        "id": "Dt5k7APfjmes"
      }
    },
    {
      "cell_type": "code",
      "source": [
        "%%bash\n",
        "\n",
        "source /content/gromacs-24/bin/GMXRC\n",
        "\n",
        "#we will create a water box\n",
        "gmx solvate -cs spc216.gro -o wat.gro -box 2.5 2.5 2.5\n",
        "\n",
        "#creating structure and topology for TIP3P water\n",
        "gmx pdb2gmx -f wat.gro -o wat.gro -p syst.top -ignh -ff charmm27 -water tip3p\n",
        "\n",
        "# creating tpr for genion\n",
        "wget https://zenodo.org/records/10822792/files/ions.mdp\n",
        "\n",
        "gmx grompp -f ions.mdp -c wat.gro -p syst.top -o ions.tpr\n",
        "\n",
        "#Using genion and the tpr to add counterions to our solvated system\n",
        "echo \"SOL\" > options\n",
        "gmx genion -s ions.tpr -o wat_ions.gro -p syst.top -pname NA -nname CL -conc 0.15 -neutral < options\n"
      ],
      "metadata": {
        "id": "GL9OgZfT1chf"
      },
      "execution_count": null,
      "outputs": []
    },
    {
      "cell_type": "markdown",
      "source": [
        "The **force field** - a collection of equations and associated\n",
        "constants designed to reproduce molecular geometry and selected\n",
        "properties of tested structures.\n",
        "\n",
        "**mdp** - molecular dynamics parameters\n",
        "https://manual.gromacs.org/documentation/current/user-guide/mdp-options.html\n",
        "\n",
        "**tpr** - contains the starting structure of your simulation, the molecular topology and all the simulation parameters\n",
        "\n",
        "**gro** - plain text file storing spatial coordinates and velocities\n",
        "\n",
        "**top** - defines which atoms are connected to one another through chemical bond\n",
        "\n",
        "**edr** - energies, temperature, pressure, box size, density and virials\n",
        "\n"
      ],
      "metadata": {
        "id": "wJqVicMnb_ok"
      }
    },
    {
      "cell_type": "markdown",
      "source": [
        "**Energy minimization**"
      ],
      "metadata": {
        "id": "FO-rgamtjbac"
      }
    },
    {
      "cell_type": "code",
      "source": [
        "%%bash\n",
        "\n",
        "source /content/gromacs-24/bin/GMXRC\n",
        "\n",
        "wget https://zenodo.org/records/10822792/files/min.mdp\n",
        "\n",
        "gmx grompp -f min.mdp -c wat_ions.gro -p syst.top -o min.tpr\n",
        "\n",
        "gmx mdrun -deffnm min -nb gpu"
      ],
      "metadata": {
        "id": "BdKqQlzArE7R"
      },
      "execution_count": null,
      "outputs": []
    },
    {
      "cell_type": "code",
      "source": [
        "%%bash\n",
        "\n",
        "source /content/gromacs-24/bin/GMXRC\n",
        "\n",
        "#Using energy to extract the potential energy of the system\n",
        "echo \"Potential\" > options\n",
        "gmx energy -f min.edr -o min_potential.xvg < options"
      ],
      "metadata": {
        "id": "R9HzI1auwxrt"
      },
      "execution_count": null,
      "outputs": []
    },
    {
      "cell_type": "code",
      "source": [
        "import numpy as np\n",
        "import matplotlib.pyplot as pp\n",
        "from pathlib import Path\n",
        "\n",
        "#path = Path(\"/content/gdrive/MyDrive/MDSimulations/tip3p\")\n",
        "\n",
        "#Plotting the potential energy of the system\n",
        "#Reading the text file containing this information\n",
        "\n",
        "data = np.loadtxt(str('min_potential.xvg'), skiprows=25)\n",
        "\n",
        "pp.title('Potential Energy during Minimization')\n",
        "pp.xlabel('Energy Minimization Step')\n",
        "pp.ylabel(r'E$_P$ [kJ•mol$^{-1}]$')\n",
        "pp.plot(data[:,0], data[:,1], linestyle='solid', linewidth='2', color='red')\n",
        "pp.show()"
      ],
      "metadata": {
        "id": "1Ft2PNmwvD41"
      },
      "execution_count": null,
      "outputs": []
    },
    {
      "cell_type": "markdown",
      "source": [
        "The minimization is converged when the maximum force is smaller than *emtol* (in .mdp) value"
      ],
      "metadata": {
        "id": "1HnD0zEHj1vS"
      }
    },
    {
      "cell_type": "markdown",
      "source": [
        "**Equilibration under an NVT ensemble**"
      ],
      "metadata": {
        "id": "P9I0VQvTjL91"
      }
    },
    {
      "cell_type": "code",
      "source": [
        "%%bash\n",
        "\n",
        "source /content/gromacs-24/bin/GMXRC\n",
        "\n",
        "wget https://zenodo.org/records/10822792/files/eq_nvt_1fs.mdp\n",
        "\n",
        "gmx grompp -f eq_nvt_1fs.mdp -c min.gro -p syst.top -o eq_nvt_1fs.tpr -maxwarn 1\n",
        "\n",
        "gmx mdrun -deffnm eq_nvt_1fs -nb gpu"
      ],
      "metadata": {
        "id": "HR_KNLdZzBY0"
      },
      "execution_count": null,
      "outputs": []
    },
    {
      "cell_type": "code",
      "source": [
        "%%bash\n",
        "\n",
        "source /content/gromacs-24/bin/GMXRC\n",
        "\n",
        "#Using energy to extract the temperature of the system during the NVT equil MD\n",
        "echo \"Temperature\" > options\n",
        "gmx energy -f eq_nvt_1fs.edr -o eq_nvt_1fs_temp.xvg < options"
      ],
      "metadata": {
        "id": "JiPmK81A1J2f"
      },
      "execution_count": null,
      "outputs": []
    },
    {
      "cell_type": "code",
      "source": [
        "#Plotting the temperature of the system\n",
        "import matplotlib.pyplot as pp\n",
        "import numpy as np\n",
        "from pathlib import Path\n",
        "\n",
        "#path = Path(\"/content/gdrive/MyDrive/MDSimulations/tip3p\")\n",
        "\n",
        "data = np.loadtxt(str('eq_nvt_1fs_temp.xvg'), skiprows=25)\n",
        "\n",
        "pp.title('Temperature during 50 ps Equilibration (NVT)')\n",
        "pp.xlabel('Time (ps)')\n",
        "pp.ylabel('Temperature [K]')\n",
        "pp.plot(data[:,0], data[:,1], linestyle='solid', linewidth='2', color='red')\n",
        "pp.show()"
      ],
      "metadata": {
        "id": "_P8Qzkij1keF"
      },
      "execution_count": null,
      "outputs": []
    },
    {
      "cell_type": "markdown",
      "source": [
        "**Equilibration under an NPT ensemble**"
      ],
      "metadata": {
        "id": "F7FIgMoci_5_"
      }
    },
    {
      "cell_type": "code",
      "source": [
        "%%bash\n",
        "\n",
        "source /content/gromacs-24/bin/GMXRC\n",
        "\n",
        "wget https://zenodo.org/records/10822792/files/eq_npt_1fs.mdp\n",
        "\n",
        "gmx grompp -f eq_npt_1fs.mdp -c eq_nvt_1fs.gro -p syst.top -o eq_npt_1fs.tpr -maxwarn 2\n",
        "\n",
        "gmx mdrun -deffnm eq_npt_1fs -nb gpu # 100 ps\n",
        "\n",
        "###############\n",
        "\n",
        "wget https://zenodo.org/records/10822792/files/eq_npt_2fs.mdp\n",
        "\n",
        "gmx grompp -f eq_npt_2fs.mdp -c eq_npt_1fs.gro -p syst.top -o eq_npt_2fs.tpr -maxwarn 2\n",
        "\n",
        "gmx mdrun -deffnm eq_npt_2fs -nb gpu # 10 ns"
      ],
      "metadata": {
        "id": "9-Mb0sqo2ERY"
      },
      "execution_count": null,
      "outputs": []
    },
    {
      "cell_type": "code",
      "source": [
        "%%bash\n",
        "\n",
        "source /content/gromacs-24/bin/GMXRC\n",
        "\n",
        "#Using energy to extract the pressure and density of the system during the NPT equil MD\n",
        "echo \"Pressure\" > options\n",
        "echo \"Density\" >> options\n",
        "gmx energy -f eq_npt_2fs.edr -o npt_press_dens.xvg < options"
      ],
      "metadata": {
        "id": "IwsBel213SKo"
      },
      "execution_count": null,
      "outputs": []
    },
    {
      "cell_type": "markdown",
      "source": [
        "Pressure"
      ],
      "metadata": {
        "id": "hlAwV9fyikFq"
      }
    },
    {
      "cell_type": "code",
      "source": [
        "import matplotlib.pyplot as pp\n",
        "import numpy as np\n",
        "from pathlib import Path\n",
        "\n",
        "#path = Path(\"/content/gdrive/MyDrive/MDSimulations/tip3p\")\n",
        "\n",
        "data = np.loadtxt(str('npt_press_dens.xvg'), skiprows=25)\n",
        "\n",
        "print('Pressure = ',\"%.1f\" % np.mean(data[:,1]), '±', \"%.1f\" % np.std(data[:,1]), 'bar')\n",
        "\n",
        "pp.title('Pressure during 10 ns Equilibration (NPT)')\n",
        "pp.xlabel('Time (ps)')\n",
        "pp.ylabel('Pressure (bar)')\n",
        "pp.plot(data[:,0], data[:,1], linestyle='solid', linewidth='1', color='red')\n",
        "pp.show()"
      ],
      "metadata": {
        "id": "2CjDu7zMcNeR"
      },
      "execution_count": null,
      "outputs": []
    },
    {
      "cell_type": "markdown",
      "source": [
        "Density"
      ],
      "metadata": {
        "id": "Z3SkSTYwifRN"
      }
    },
    {
      "cell_type": "code",
      "source": [
        "import matplotlib.pyplot as pp\n",
        "import numpy as np\n",
        "from pathlib import Path\n",
        "\n",
        "#path = Path(\"/content/gdrive/MyDrive/MDSimulations/tip3p\")\n",
        "\n",
        "data = np.loadtxt(str('npt_press_dens.xvg'), skiprows=25)\n",
        "print('Density = ',\"%.1f\" % np.mean(data[:,2]), '±', \"%.1f\" % np.std(data[:,2]), '1/bar')\n",
        "\n",
        "pp.title('Density during 10 ns Equilibration (NPT)')\n",
        "pp.xlabel('Time (ps)')\n",
        "pp.ylabel('Density (kg•m$^{-3}$)')\n",
        "pp.plot(data[:,0], data[:,2], linestyle='solid', linewidth='1', color='red')\n",
        "pp.show()"
      ],
      "metadata": {
        "id": "5MouevKcfRR3"
      },
      "execution_count": null,
      "outputs": []
    },
    {
      "cell_type": "markdown",
      "source": [
        "**MD production**"
      ],
      "metadata": {
        "id": "nD12cgxIkXzt"
      }
    },
    {
      "cell_type": "code",
      "source": [
        "%%bash\n",
        "\n",
        "source /content/gromacs-24/bin/GMXRC\n",
        "\n",
        "wget https://zenodo.org/records/10822792/files/prod.mdp\n",
        "\n",
        "gmx grompp -f prod.mdp -c eq_npt_2fs.gro -p syst.top -o prod.tpr\n",
        "\n",
        "gmx mdrun -deffnm prod -nb gpu # 10 ns"
      ],
      "metadata": {
        "id": "8EGMrdCvf89r"
      },
      "execution_count": null,
      "outputs": []
    },
    {
      "cell_type": "markdown",
      "source": [
        "**Trajectory analysis**"
      ],
      "metadata": {
        "id": "EAqtQH9PoZzT"
      }
    },
    {
      "cell_type": "markdown",
      "source": [
        "Comparison of temperature and kinetic energy distributions for different thermostats"
      ],
      "metadata": {
        "id": "iuknxIvHRxtO"
      }
    },
    {
      "cell_type": "code",
      "source": [
        "%%bash\n",
        "\n",
        "source /content/gromacs-24/bin/GMXRC\n",
        "\n",
        "#Using energy to extract the pressure and density of the system during the NPT prod MD\n",
        "echo \"Temperature\" > options\n",
        "echo \"Kinetic-En.\" >> options\n",
        "gmx energy -f eq_npt_2fs.edr -o npt_temp_kin.xvg < options # Berendsen\n",
        "gmx energy -f prod.edr -o prod_temp_kin.xvg < options # Nose-Hoover"
      ],
      "metadata": {
        "id": "AIScVLLnRXe_"
      },
      "execution_count": null,
      "outputs": []
    },
    {
      "cell_type": "markdown",
      "source": [
        "Temperature and Kinetic Energy distribution"
      ],
      "metadata": {
        "id": "hiVI2UHvYoIG"
      }
    },
    {
      "cell_type": "code",
      "source": [
        "import matplotlib.pyplot as pp\n",
        "import numpy as np\n",
        "from pathlib import Path\n",
        "\n",
        "#path = Path(\"/content/gdrive/MyDrive/MDSimulations/tip3p\")\n",
        "\n",
        "ber = np.loadtxt(str('npt_temp_kin.xvg'), skiprows=25) # Berendsen\n",
        "n_h = np.loadtxt(str('prod_temp_kin.xvg'), skiprows=25) # Nose-Hoover\n",
        "\n",
        "print('Ber = ',\"%.1f\" % np.mean(ber[:,2]), '±', \"%.1f\" % np.std(ber[:,2]), 'K')\n",
        "print('N-H = ',\"%.1f\" % np.mean(n_h[:,2]), '±', \"%.1f\" % np.std(n_h[:,2]), 'K')\n",
        "\n",
        "print('Ber = ',\"%.1f\" % np.mean(ber[:,1]), '±', \"%.1f\" % np.std(ber[:,1]), 'kJ/mol')\n",
        "print('N-H = ',\"%.1f\" % np.mean(n_h[:,1]), '±', \"%.1f\" % np.std(n_h[:,1]), 'kJ/mol')\n",
        "\n",
        "pp.title('Comparison of Kinetic Energy')\n",
        "pp.xlabel('Time (ps)')\n",
        "pp.ylabel('Kinetic Energy (kJ/mol)')\n",
        "pp.plot(ber[:,0], ber[:,1], linestyle='solid', linewidth='1', color='red', label='Berendsen')\n",
        "pp.plot(n_h[:,0], n_h[:,1], linestyle='solid', linewidth='1', alpha=0.5, color='blue', label='Nose-Hoover')\n",
        "pp.legend()\n",
        "pp.show()"
      ],
      "metadata": {
        "id": "iJuTbzoHSpBy"
      },
      "execution_count": null,
      "outputs": []
    },
    {
      "cell_type": "markdown",
      "source": [
        "Pressure\n",
        "\n",
        "https://manual.gromacs.org/current/user-guide/terminology.html"
      ],
      "metadata": {
        "id": "eeW6UrAzHo8p"
      }
    },
    {
      "cell_type": "code",
      "source": [
        "%%bash\n",
        "\n",
        "source /content/gromacs-24/bin/GMXRC\n",
        "\n",
        "#Using energy to extract the pressure and density of the system during the NPT prod MD\n",
        "echo \"Pressure\" > options\n",
        "echo \"Density\" >> options\n",
        "gmx energy -f prod.edr -o prod_press_dens.xvg < options"
      ],
      "metadata": {
        "id": "g81HV2VjyC4m"
      },
      "execution_count": null,
      "outputs": []
    },
    {
      "cell_type": "code",
      "source": [
        "import matplotlib.pyplot as pp\n",
        "import numpy as np\n",
        "from pathlib import Path\n",
        "\n",
        "#path = Path(\"/content/gdrive/MyDrive/MDSimulations/tip3p\")\n",
        "\n",
        "ber = np.loadtxt(str('npt_press_dens.xvg'), skiprows=25) # Berendsen\n",
        "p_r = np.loadtxt(str('prod_press_dens.xvg'), skiprows=25) # Parrinello-Rahman\n",
        "\n",
        "print('Ber = ',\"%.1f\" % np.mean(ber[:,1]), '±', \"%.1f\" % np.std(ber[:,1]), 'bar')\n",
        "print('P-R = ',\"%.1f\" % np.mean(p_r[:,1]), '±', \"%.1f\" % np.std(p_r[:,1]), 'bar')\n",
        "\n",
        "pp.title('Pressure')\n",
        "pp.xlabel('Time (ps)')\n",
        "pp.ylabel('Pressure [bar]')\n",
        "pp.plot(ber[:,0], ber[:,1], linestyle='solid', linewidth='1', color='red', label='Berendsen')\n",
        "pp.plot(p_r[:,0], p_r[:,1], linestyle='solid', linewidth='1', alpha=0.5, color='blue', label='Parrinello-Rahman')\n",
        "pp.legend()\n",
        "pp.show()"
      ],
      "metadata": {
        "id": "wJTcda-dHDm-"
      },
      "execution_count": null,
      "outputs": []
    },
    {
      "cell_type": "markdown",
      "source": [
        "Density"
      ],
      "metadata": {
        "id": "-J6jl9ILHsEf"
      }
    },
    {
      "cell_type": "code",
      "source": [
        "import matplotlib.pyplot as pp\n",
        "import numpy as np\n",
        "from pathlib import Path\n",
        "\n",
        "#path = Path(\"/content/gdrive/MyDrive/MDSimulations/tip3p\")\n",
        "\n",
        "ber = np.loadtxt(str('npt_press_dens.xvg'), skiprows=25) # Berendsen\n",
        "p_r = np.loadtxt(str('prod_press_dens.xvg'), skiprows=25) # Parrinello-Rahman\n",
        "\n",
        "print('Ber = ',\"%.1f\" % np.mean(ber[:,2]), '±', \"%.1f\" % np.std(ber[:,2]), 'kg/m^3')\n",
        "print('P-R = ',\"%.1f\" % np.mean(p_r[:,2]), '±', \"%.1f\" % np.std(p_r[:,2]), 'kg/m^3')"
      ],
      "metadata": {
        "id": "gLg4McoIHFSY"
      },
      "execution_count": null,
      "outputs": []
    },
    {
      "cell_type": "markdown",
      "source": [
        "Trajectory postprocessing"
      ],
      "metadata": {
        "id": "3oSo4GCs-vbP"
      }
    },
    {
      "cell_type": "code",
      "source": [
        "%%bash\n",
        "\n",
        "source /content/gromacs-24/bin/GMXRC\n",
        "\n",
        "echo \"System\" >> options\n",
        "gmx trjconv -f prod.xtc -o prod.xtc -pbc mol -s prod.tpr < options"
      ],
      "metadata": {
        "id": "ezpIyVUc3pJ8"
      },
      "execution_count": null,
      "outputs": []
    },
    {
      "cell_type": "markdown",
      "source": [
        "Creating an index file"
      ],
      "metadata": {
        "id": "L6XF_hjJ-qcf"
      }
    },
    {
      "cell_type": "code",
      "source": [
        "%%bash\n",
        "\n",
        "source /content/gromacs-24/bin/GMXRC\n",
        "\n",
        "echo \"splitres 4\" > options\n",
        "echo \"ri 1\" >> options\n",
        "echo \"2 & ! ri 1\" >> options\n",
        "echo \"q\" >> options\n",
        "gmx make_ndx -f prod.gro -o ind.ndx < options"
      ],
      "metadata": {
        "id": "rp0H35yO4GKz"
      },
      "execution_count": null,
      "outputs": []
    },
    {
      "cell_type": "markdown",
      "source": [
        "Radial distribution function\n",
        "\n",
        "https://manual.gromacs.org/2024.0/reference-manual/analysis/radial-distribution-function.html\n",
        "\n"
      ],
      "metadata": {
        "id": "uVtV1KaC-n37"
      }
    },
    {
      "cell_type": "code",
      "source": [
        "%%bash\n",
        "\n",
        "source /content/gromacs-24/bin/GMXRC\n",
        "\n",
        "# water around a water molecule\n",
        "echo \"8\" > options # 1 water molecule\n",
        "echo \"9\" >> options # water without \"8\"\n",
        "gmx rdf -f prod.xtc -s prod.tpr -n ind.ndx -o rdf_wat1.xvg -pbc < options\n",
        "\n",
        "# water around NA+\n",
        "echo \"6\" > options # ion NA+\n",
        "echo \"2\" >> options # water\n",
        "gmx rdf -f prod.xtc -s prod.tpr -n ind.ndx -o rdf_na.xvg -pbc < options\n",
        "\n",
        "# water around CL-\n",
        "echo \"7\" > options # ion CL-\n",
        "echo \"2\" >> options # water\n",
        "gmx rdf -f prod.xtc -s prod.tpr -n ind.ndx -o rdf_cl.xvg -pbc < options\n",
        "\n",
        "# CL- around NA+\n",
        "#echo \"6\" > options # ion NA+\n",
        "#echo \"7\" >> options # ion CL-\n",
        "#gmx rdf -f prod.xtc -s prod.tpr -n ind.ndx -o rdf_na_cl.xvg -pbc < options"
      ],
      "metadata": {
        "id": "isqMBs3D8C9V"
      },
      "execution_count": null,
      "outputs": []
    },
    {
      "cell_type": "code",
      "source": [
        "import matplotlib.pyplot as pp\n",
        "import numpy as np\n",
        "from pathlib import Path\n",
        "\n",
        "#path = Path(\"/content/gdrive/MyDrive/MDSimulations/tip3p\")\n",
        "\n",
        "na = np.loadtxt(str('rdf_na.xvg'), skiprows=25)*10\n",
        "cl = np.loadtxt(str('rdf_cl.xvg'), skiprows=25)*10\n",
        "w = np.loadtxt(str('rdf_wat1.xvg'), skiprows=25)*10\n",
        "\n",
        "#na_cl = np.loadtxt('rdf_na_cl.xvg', skiprows=25)*10\n",
        "\n",
        "pp.title('RDF')\n",
        "pp.xlabel('Distance, r (Å)')\n",
        "pp.ylabel('g(r)')\n",
        "pp.plot(na[:,0], na[:,1], linestyle='solid', linewidth='1', color='blue', label=\"around NA+\")\n",
        "pp.plot(cl[:,0], cl[:,1], linestyle='solid', linewidth='1', color='red', label=\"around CL-\")\n",
        "pp.plot(w[:,0], w[:,1], linestyle='solid', linewidth='1', color='black', label=\"around 1 H2O\")\n",
        "\n",
        "#pp.plot(na_cl[:,0], na_cl[:,1], linestyle='solid', linewidth='1', color='orange', alpha=0.5,label=\"CL- around NA+\")\n",
        "#pp.ylim(0,40)\n",
        "#pp.plot(p_r[:,0], p_r[:,1], linestyle='solid', linewidth='1', alpha=0.5, color='blue')\n",
        "\n",
        "pp.legend(loc='upper right')\n",
        "pp.show()"
      ],
      "metadata": {
        "id": "XMLI7JROhFnr"
      },
      "execution_count": null,
      "outputs": []
    },
    {
      "cell_type": "markdown",
      "source": [
        "Mean squared displacement and Diffusion\n",
        "\n",
        "https://manual.gromacs.org/2024.0/reference-manual/analysis/mean-square-displacement.html"
      ],
      "metadata": {
        "id": "0ly0s0cFJ2qe"
      }
    },
    {
      "cell_type": "code",
      "source": [
        "%%bash\n",
        "\n",
        "source /content/gromacs-24/bin/GMXRC\n",
        "\n",
        "echo \"2\" > options # water\n",
        "gmx msd -f prod.xtc -s prod.tpr -n ind.ndx -pbc -mol diff_w.xvg -o msd_w.xvg < options\n",
        "\n",
        "echo \"6\" > options # ion NA+\n",
        "gmx msd -f prod.xtc -s prod.tpr -n ind.ndx -pbc -mol diff_na.xvg -o msd_na.xvg < options\n",
        "\n",
        "echo \"7\" > options # ion CL-\n",
        "gmx msd -f prod.xtc -s prod.tpr -n ind.ndx -pbc -mol diff_cl.xvg -o msd_cl.xvg < options"
      ],
      "metadata": {
        "id": "rq0tsMkaGHz-"
      },
      "execution_count": null,
      "outputs": []
    },
    {
      "cell_type": "code",
      "source": [
        "import matplotlib.pyplot as pp\n",
        "import numpy as np\n",
        "from pathlib import Path\n",
        "\n",
        "#path = Path(\"/content/gdrive/MyDrive/MDSimulations/tip3p\")\n",
        "\n",
        "w = np.loadtxt(str('msd_w.xvg'), skiprows=25)\n",
        "na = np.loadtxt(str('msd_na.xvg'), skiprows=25)\n",
        "cl = np.loadtxt(str('msd_cl.xvg'), skiprows=25)\n",
        "\n",
        "print(\"D (TIP3P water) = \",\"5.6743 ± 0.0507 (e-5 cm^2/s)\") # from MSD curve\n",
        "\n",
        "pp.title('MSD')\n",
        "pp.xlabel('Time lag (τ)')\n",
        "pp.ylabel('MSD (nm$^2$/N)')\n",
        "pp.plot(w[:,0], w[:,1], linestyle='solid', linewidth='1', color='black', label=\"water\")\n",
        "pp.plot(na[:,0], na[:,1], linestyle='solid', linewidth='1', color='blue', label=\"NA+\")\n",
        "pp.plot(cl[:,0], cl[:,1], linestyle='solid', linewidth='1', color='red', label=\"CL-\")\n",
        "pp.legend()\n",
        "pp.show()"
      ],
      "metadata": {
        "id": "SrCK5Dx7KCqq"
      },
      "execution_count": null,
      "outputs": []
    },
    {
      "cell_type": "code",
      "source": [
        "import matplotlib.pyplot as pp\n",
        "import numpy as np\n",
        "from pathlib import Path\n",
        "\n",
        "#path = Path(\"/content/gdrive/MyDrive/MDSimulations/tip3p\")\n",
        "\n",
        "w = np.loadtxt(str('diff_w.xvg'), skiprows=25) # for each molecule\n",
        "\n",
        "pp.title('MSD')\n",
        "pp.xlabel('Molecule (#)')\n",
        "pp.ylabel('Diffusion (e-5 cm^2/s)')\n",
        "pp.plot(w[:,0], w[:,1], linestyle='solid', linewidth='1', color='red')\n",
        "pp.show()"
      ],
      "metadata": {
        "id": "9BrKw0fyLrVY"
      },
      "execution_count": null,
      "outputs": []
    },
    {
      "cell_type": "markdown",
      "source": [
        "**OPC water box**"
      ],
      "metadata": {
        "id": "YdFVSaT5PAl_"
      }
    },
    {
      "cell_type": "markdown",
      "source": [
        "Generated by *CHARMM-GUI*\n",
        "\n",
        "https://doi.org/10.1002/jcc.20945"
      ],
      "metadata": {
        "id": "BJ7-pKZ9quwI"
      }
    },
    {
      "cell_type": "code",
      "source": [
        "from google.colab import drive\n",
        "drive.mount('/content/gdrive')"
      ],
      "metadata": {
        "id": "ovfrfpLeunNB"
      },
      "execution_count": null,
      "outputs": []
    },
    {
      "cell_type": "code",
      "source": [
        "import shutil\n",
        "from pathlib import Path\n",
        "import os\n",
        "\n",
        "opc = Path(\"/content/gdrive/My Drive/opc\")\n",
        "\n",
        "shutil.copytree(str(opc), str('/content/opc'))"
      ],
      "metadata": {
        "id": "uJIjWJOjln-3"
      },
      "execution_count": null,
      "outputs": []
    },
    {
      "cell_type": "code",
      "source": [
        "%%bash\n",
        "\n",
        "source /content/gromacs-24/bin/GMXRC\n",
        "\n",
        "cd /content/opc\n",
        "\n",
        "# Minimization\n",
        "gmx grompp -f min.mdp -c wat_ions.gro -p syst.top -o min.tpr\n",
        "gmx mdrun -v -deffnm min -nb gpu\n",
        "\n",
        "#Thermalization and Equilibration\n",
        "# NVT\n",
        "gmx grompp -f eq_nvt_1fs.mdp -c min.gro -p syst.top -o eq_nvt_1fs.tpr -maxwarn 1\n",
        "gmx mdrun -deffnm eq_nvt_1fs -nb gpu\n",
        "# NPT\n",
        "gmx grompp -f eq_npt_1fs.mdp -c eq_nvt_1fs.gro -p syst.top -o eq_npt_1fs.tpr -maxwarn 2\n",
        "gmx mdrun -deffnm eq_npt_1fs -nb gpu\n",
        "gmx grompp -f eq_npt_2fs.mdp -c eq_npt_1fs.gro -p syst.top -o eq_npt_2fs.tpr -maxwarn 2\n",
        "gmx mdrun -deffnm eq_npt_2fs -nb gpu # 10 ns\n",
        "\n",
        "# Production\n",
        "gmx grompp -f prod.mdp -c eq_npt_2fs.gro -p syst.top -o prod.tpr\n",
        "gmx mdrun -deffnm prod -nb gpu # 10 ns\n"
      ],
      "metadata": {
        "id": "uCW61HCwOW9N"
      },
      "execution_count": null,
      "outputs": []
    },
    {
      "cell_type": "markdown",
      "source": [
        "Kinetic Energy"
      ],
      "metadata": {
        "id": "MX00S43PqhjP"
      }
    },
    {
      "cell_type": "code",
      "source": [
        "%%bash\n",
        "\n",
        "source /content/gromacs-24/bin/GMXRC\n",
        "\n",
        "cd /content/opc\n",
        "\n",
        "#Using energy to extract the pressure and density of the system during the NPT prod MD\n",
        "echo \"Temperature\" > options\n",
        "echo \"Kinetic-En.\" >> options\n",
        "gmx energy -f eq_npt_2fs.edr -o npt_temp_kin.xvg < options # Berendsen\n",
        "gmx energy -f prod.edr -o prod_temp_kin.xvg < options # Nose-Hoover"
      ],
      "metadata": {
        "id": "OaMB_tGPqh-N"
      },
      "execution_count": null,
      "outputs": []
    },
    {
      "cell_type": "code",
      "source": [
        "%cd /content/opc\n",
        "\n",
        "import matplotlib.pyplot as pp\n",
        "import numpy as np\n",
        "from pathlib import Path\n",
        "\n",
        "#path = Path(\"/content/gdrive/MyDrive/MDSimulations/opc\")\n",
        "\n",
        "ber = np.loadtxt(str('npt_temp_kin.xvg'), skiprows=25) # Berendsen\n",
        "n_h = np.loadtxt(str('prod_temp_kin.xvg'), skiprows=25) # Nose-Hoover\n",
        "\n",
        "print('Ber = ',\"%.1f\" % np.mean(ber[:,2]), '±', \"%.1f\" % np.std(ber[:,2]), 'K')\n",
        "print('N-H = ',\"%.1f\" % np.mean(n_h[:,2]), '±', \"%.1f\" % np.std(n_h[:,2]), 'K')\n",
        "\n",
        "print('Ber = ',\"%.1f\" % np.mean(ber[:,1]), '±', \"%.1f\" % np.std(ber[:,1]), 'kJ/mol')\n",
        "print('N-H = ',\"%.1f\" % np.mean(n_h[:,1]), '±', \"%.1f\" % np.std(n_h[:,1]), 'kJ/mol')\n",
        "\n",
        "pp.title('Comparison of Kinetic Energy')\n",
        "pp.xlabel('Time (ps)')\n",
        "pp.ylabel('Kinetic Energy (kJ/mol)')\n",
        "pp.plot(ber[:,0], ber[:,1], linestyle='solid', linewidth='1', color='red')\n",
        "pp.plot(n_h[:,0], n_h[:,1], linestyle='solid', linewidth='1', alpha=0.5, color='blue')\n",
        "pp.show()"
      ],
      "metadata": {
        "id": "fDPcqAGLrDM2"
      },
      "execution_count": null,
      "outputs": []
    },
    {
      "cell_type": "markdown",
      "source": [
        "Density"
      ],
      "metadata": {
        "id": "EZHDZW71rxDe"
      }
    },
    {
      "cell_type": "code",
      "source": [
        "%%bash\n",
        "\n",
        "source /content/gromacs-24/bin/GMXRC\n",
        "\n",
        "cd /content/opc\n",
        "\n",
        "\n",
        "#Using energy to extract the pressure and density of the system during the NPT prod MD\n",
        "echo \"Pressure\" > options\n",
        "echo \"Density\" >> options\n",
        "gmx energy -f prod.edr -o prod_press_dens.xvg < options"
      ],
      "metadata": {
        "id": "E1LKXDPmrVzn"
      },
      "execution_count": null,
      "outputs": []
    },
    {
      "cell_type": "code",
      "source": [
        "%cd /content/opc\n",
        "\n",
        "import matplotlib.pyplot as pp\n",
        "import numpy as np\n",
        "from pathlib import Path\n",
        "\n",
        "#path = Path(\"/content/gdrive/MyDrive/MDSimulations/opc\")\n",
        "\n",
        "ber = np.loadtxt(str('npt_press_dens.xvg'), skiprows=25) # Berendsen\n",
        "p_r = np.loadtxt(str('prod_press_dens.xvg'), skiprows=25) # Parrinello-Rahman\n",
        "\n",
        "print('Ber = ',\"%.1f\" % np.mean(ber[:,2]), '±', \"%.1f\" % np.std(ber[:,2]), 'kg/m^3')\n",
        "print('P-R = ',\"%.1f\" % np.mean(p_r[:,2]), '±', \"%.1f\" % np.std(p_r[:,2]), 'kg/m^3')"
      ],
      "metadata": {
        "id": "2t1_kUTwsGhP"
      },
      "execution_count": null,
      "outputs": []
    },
    {
      "cell_type": "markdown",
      "source": [
        "Postprocessing"
      ],
      "metadata": {
        "id": "rzYSx4-8sR3m"
      }
    },
    {
      "cell_type": "code",
      "source": [
        "%%bash\n",
        "\n",
        "source /content/gromacs-24/bin/GMXRC\n",
        "cd /content/opc\n",
        "\n",
        "echo \"System\" >> options\n",
        "gmx trjconv -f prod.xtc -o prod.xtc -pbc mol -s prod.tpr < options"
      ],
      "metadata": {
        "id": "vKWCTP6NsSF1"
      },
      "execution_count": null,
      "outputs": []
    },
    {
      "cell_type": "markdown",
      "source": [
        "Creating an index file"
      ],
      "metadata": {
        "id": "9nUPwud0spyJ"
      }
    },
    {
      "cell_type": "code",
      "source": [
        "%%bash\n",
        "\n",
        "source /content/gromacs-24/bin/GMXRC\n",
        "\n",
        "cd /content/opc\n",
        "\n",
        "echo \"ri 3\" >> options\n",
        "echo \"4 & ! ri 3\" >> options\n",
        "echo \"q\" >> options\n",
        "gmx make_ndx -f prod.gro -o ind.ndx < options"
      ],
      "metadata": {
        "id": "5YhEOg-Fspg4"
      },
      "execution_count": null,
      "outputs": []
    },
    {
      "cell_type": "markdown",
      "source": [
        "Radial distribution function\n",
        "\n",
        "https://manual.gromacs.org/2024.0/reference-manual/analysis/radial-distribution-function.html"
      ],
      "metadata": {
        "id": "jIiY22_iszsv"
      }
    },
    {
      "cell_type": "code",
      "source": [
        "%%bash\n",
        "\n",
        "source /content/gromacs-24/bin/GMXRC\n",
        "\n",
        "cd /content/opc\n",
        "\n",
        "# water around a water molecule\n",
        "echo \"5\" > options # 1 water molecule\n",
        "echo \"6\" >> options # water without \"8\"\n",
        "gmx rdf -f prod.xtc -s prod.tpr -n ind.ndx -o rdf_wat1.xvg -pbc < options\n",
        "\n",
        "# water around NA+\n",
        "echo \"2\" > options # ion NA+\n",
        "echo \"4\" >> options # water\n",
        "gmx rdf -f prod.xtc -s prod.tpr -n ind.ndx -o rdf_na.xvg -pbc < options\n",
        "\n",
        "# water around CL-\n",
        "echo \"3\" > options # ion CL-\n",
        "echo \"4\" >> options # water\n",
        "gmx rdf -f prod.xtc -s prod.tpr -n ind.ndx -o rdf_cl.xvg -pbc < options"
      ],
      "metadata": {
        "id": "-RcX2Gz6s0Ee"
      },
      "execution_count": null,
      "outputs": []
    },
    {
      "cell_type": "code",
      "source": [
        "%cd /content/opc\n",
        "\n",
        "import matplotlib.pyplot as pp\n",
        "import numpy as np\n",
        "from pathlib import Path\n",
        "\n",
        "#path = Path(\"/content/gdrive/MyDrive/MDSimulations/opc\")\n",
        "\n",
        "na = np.loadtxt(str('rdf_na.xvg'), skiprows=25)*10\n",
        "cl = np.loadtxt(str('rdf_cl.xvg'), skiprows=25)*10\n",
        "w = np.loadtxt(str('rdf_wat1.xvg'), skiprows=25)*10\n",
        "\n",
        "pp.title('RDF')\n",
        "pp.xlabel('Distance, r (Å)')\n",
        "pp.ylabel('g(r)')\n",
        "pp.plot(na[:,0], na[:,1], linestyle='solid', linewidth='1', color='blue', label=\"around NA+\")\n",
        "pp.plot(cl[:,0], cl[:,1], linestyle='solid', linewidth='1', color='red', label=\"around CL-\")\n",
        "pp.plot(w[:,0], w[:,1], linestyle='solid', linewidth='1', color='black', label=\"around 1 H2O\")\n",
        "\n",
        "pp.legend(loc='upper right')\n",
        "pp.show()"
      ],
      "metadata": {
        "id": "lwrCPROMtAWI"
      },
      "execution_count": null,
      "outputs": []
    },
    {
      "cell_type": "markdown",
      "source": [
        "Mean squared displacement and Diffusion\n",
        "\n",
        "https://manual.gromacs.org/2024.0/reference-manual/analysis/mean-square-displacement.html"
      ],
      "metadata": {
        "id": "76auNv5JtLMY"
      }
    },
    {
      "cell_type": "code",
      "source": [
        "%%bash\n",
        "\n",
        "source /content/gromacs-24/bin/GMXRC\n",
        "cd /content/opc\n",
        "\n",
        "echo \"4\" > options # water\n",
        "gmx msd -f prod.xtc -s prod.tpr -n ind.ndx -pbc -mol diff_w.xvg -o msd_w.xvg < options\n",
        "\n",
        "echo \"2\" > options # ion NA+\n",
        "gmx msd -f prod.xtc -s prod.tpr -n ind.ndx -pbc -mol diff_na.xvg -o msd_na.xvg < options\n",
        "\n",
        "echo \"3\" > options # ion CL-\n",
        "gmx msd -f prod.xtc -s prod.tpr -n ind.ndx -pbc -mol diff_cl.xvg -o msd_cl.xvg < options"
      ],
      "metadata": {
        "id": "21Q64mRwtLio"
      },
      "execution_count": null,
      "outputs": []
    },
    {
      "cell_type": "code",
      "source": [
        "%cd /content/opc\n",
        "\n",
        "import matplotlib.pyplot as pp\n",
        "import numpy as np\n",
        "from pathlib import Path\n",
        "\n",
        "#path = Path(\"/content/gdrive/MyDrive/MDSimulations/opc\")\n",
        "\n",
        "w = np.loadtxt(str('msd_w.xvg'), skiprows=25)\n",
        "na = np.loadtxt(str('msd_na.xvg'), skiprows=25)\n",
        "cl = np.loadtxt(str('msd_cl.xvg'), skiprows=25)\n",
        "\n",
        "print(\"D (OPC water) = 2.2312 ± 0.0906 (e-5 cm^2/s)\") # from MSD curve\n",
        "\n",
        "pp.title('MSD')\n",
        "pp.xlabel('Time lag (τ)')\n",
        "pp.ylabel('MSD (nm$^2$/N)')\n",
        "pp.plot(w[:,0], w[:,1], linestyle='solid', linewidth='1', color='black', label=\"water\")\n",
        "pp.plot(na[:,0], na[:,1], linestyle='solid', linewidth='1', color='blue', label=\"NA+\")\n",
        "pp.plot(cl[:,0], cl[:,1], linestyle='solid', linewidth='1', color='red', label=\"CL-\")\n",
        "\n",
        "pp.legend()\n",
        "pp.show()"
      ],
      "metadata": {
        "id": "4HfZtynmtaev"
      },
      "execution_count": null,
      "outputs": []
    },
    {
      "cell_type": "code",
      "source": [
        "%cd /content/opc\n",
        "\n",
        "import matplotlib.pyplot as pp\n",
        "import numpy as np\n",
        "from pathlib import Path\n",
        "\n",
        "#path = Path(\"/content/gdrive/MyDrive/MDSimulations/opc\")\n",
        "\n",
        "w = np.loadtxt(str('diff_w.xvg'), skiprows=25) # for each molecule\n",
        "\n",
        "pp.title('MSD')\n",
        "pp.xlabel('Molecule (#)')\n",
        "pp.ylabel('Diffusion (e-5 cm^2/s)')\n",
        "pp.plot(w[:,0], w[:,1], linestyle='solid', linewidth='1', color='red')\n",
        "pp.show()"
      ],
      "metadata": {
        "id": "QY_P8l52t3Z4"
      },
      "execution_count": null,
      "outputs": []
    },
    {
      "cell_type": "markdown",
      "source": [
        "**That's all!**"
      ],
      "metadata": {
        "id": "TY_KXimNwQBN"
      }
    },
    {
      "cell_type": "markdown",
      "source": [
        "# Homework"
      ],
      "metadata": {
        "id": "iIsJ4r-wRKO5"
      }
    },
    {
      "cell_type": "markdown",
      "source": [
        "CHARMM-GUI\n",
        "\n",
        "С помощью него генерируем топологию (CHARMM36m и AMBER) и систему для моделирования в GROMACS\n",
        "\n",
        "0) Получаем дипептид в Pymol:\n",
        "\n",
        "*   в командной строке Pymol пишем\n",
        "\n",
        "      fab XY, pept\n",
        "\n",
        "      alter all, chain=\"A\"\n",
        "\n",
        "      select all\n",
        "\n",
        "      save XY.pdb, sele\n",
        "\n",
        "где XY - два однобуквенных названия аминокислот\n",
        "\n",
        "(https://www.chem.msu.su/rus/teaching/kolman/66.htm)\n",
        "\n",
        "1) Register https://www.charmm-gui.org/ and Log in\n",
        "\n",
        "2) переходим в раздел **Input Generator- Solution Builder**\n",
        "\n",
        "3) **Protein Solution System** - Upload PDB File - Choose File - ваш **XY.pdb**, нажимаем Next Step:Select Model/Chain\n",
        "\n",
        "4) Terminal group patching - оставляем NTER и CTER (т.е. NH3+ на N-конце и COO- на С-конце); нажимаем Next Step:Generate PDB\n",
        "\n",
        "5) указываем форму и размер ячейки Waterbox Size Options: Rectangular, Specify Waterbox Size (X: 30 , Y: 30, Z: 30);\n",
        "\n",
        "если **нет** заряженных аминокислот, нажимаем Calculate Solvent Composition и снимаем галочку с Include Ions,\n",
        "\n",
        "если **есть** - удаляем KCl (нажать на \"-\") и добавляем NaCl (выбираем из списка и нажимаем Add Simple Ion Type), ставим концентрацию **0** (чтобы только нейтрализовать заряд аминокислот в системе) и нажимаем Calculate Solvent Composition;\n",
        "\n",
        "нажимаем Next Step:Solvate Molecule\n",
        "\n",
        "6) Next Step:Setup Periodic Boundary Condition\n",
        "\n",
        "7) Выбираем FF **CHARMM36m**, Input Generation Options: **GROMACS**, нажимаем Next Step:Generate Equilibration and Dynamics inputs\n",
        "\n",
        "8) Нажимаем download.tgz\n",
        "\n",
        "9) Создаём папки MD_chm36m, MD_amber в Мой диск (Google Drive)\n",
        "\n",
        "10) Извлекаем/распаковываем из скачанного charmm-gui.tgz папку gromacs. Из gromacs загружаем на Мой диск в папку MD_chm36m: папку toppar и файлы step3_input.gro, topol.top\n",
        "\n",
        "9) заходим в User Profile (в правом верхнем углу около Logout) - Job IDs, нажимаем на номер Job ID, нажимаем **Go**, где solution 3\n",
        "\n",
        "10) Выбираем FF - **AMBER**, Water - **OPC**, Input Generation Options: **GROMACS**, нажимаем Next Step:Generate Equilibration and Dynamics inputs\n",
        "\n",
        "11) Нажимаем download.tgz\n",
        "\n",
        "12) Извлекаем/распаковываем из скачанного charmm-gui.tgz папку gromacs. Из gromacs загружаем на Мой диск в папку MD_amber: папку toppar и файлы step3_input.gro, topol.top\n",
        "\n",
        "13) В Colab выбираем Runtime type - T4 GPU, нажимаем Connect to a hosted runtime T4\n",
        "\n",
        "14) Выполняем следующие ниже ячейки\n",
        "\n"
      ],
      "metadata": {
        "id": "nQNWyzUUslNa"
      }
    },
    {
      "cell_type": "code",
      "source": [
        "#Downloading GROMACS 2024\n",
        "\n",
        "!wget https://ftp.gromacs.org/gromacs/gromacs-2024.tar.gz"
      ],
      "metadata": {
        "id": "jV07tLpGJnlP"
      },
      "execution_count": null,
      "outputs": []
    },
    {
      "cell_type": "code",
      "source": [
        "%%bash\n",
        "\n",
        "#Extracting and Installing GROMACS 2024 onto a user-defined folder\n",
        "#First, we extract the downloaded folder containing GROMACS-2024\n",
        "\n",
        "tar xfz gromacs-2024.tar.gz # tar - archive, gz - gzip compression\n",
        "echo \"GROMACS extraction completed\"\n",
        "\n",
        "#Then, we create a \"build\" folder inside the extracted folder\n",
        "\n",
        "cd gromacs-2024\n",
        "\n",
        "mkdir build\n",
        "\n",
        "#Next, we setup our GROMACS 2024 installation options, including GPU and a user-defined folder\n",
        "\n",
        "cd build\n",
        "\n",
        "cmake .. -DGMX_BUILD_OWN_FFTW=ON -DGMX_GPU=CUDA -DCMAKE_INSTALL_PREFIX=/content/gromacs-24\n",
        "echo \"GROMACS set up completed\""
      ],
      "metadata": {
        "id": "fuiLsNzIJsM-"
      },
      "execution_count": null,
      "outputs": []
    },
    {
      "cell_type": "code",
      "source": [
        "%%bash\n",
        "\n",
        "cd /content/gromacs-2024/build\n",
        "\n",
        "# ~ 1 час компилируется\n",
        "\n",
        "make\n",
        "#echo \"GROMACS building completed\"\n",
        "\n",
        "make install\n",
        "#echo \"GROMACS installation completed. Please check if any errors occurred during installation\""
      ],
      "metadata": {
        "id": "jhNHxDqMJtME"
      },
      "execution_count": null,
      "outputs": []
    },
    {
      "cell_type": "code",
      "source": [
        "%%bash\n",
        "\n",
        "##Checking that GROMACS was successfully installed\n",
        "\n",
        "source /content/gromacs-24/bin/GMXRC\n",
        "\n",
        "gmx -h"
      ],
      "metadata": {
        "id": "SJ_D2z0LJ4Ix"
      },
      "execution_count": null,
      "outputs": []
    },
    {
      "cell_type": "markdown",
      "source": [
        "Монтируем Google drive к текущей сессии Google Colab"
      ],
      "metadata": {
        "id": "lvmFeENrSjaW"
      }
    },
    {
      "cell_type": "code",
      "source": [
        "from google.colab import drive\n",
        "drive.mount('/content/gdrive')"
      ],
      "metadata": {
        "id": "lr2Npth8g38q"
      },
      "execution_count": null,
      "outputs": []
    },
    {
      "cell_type": "markdown",
      "source": [
        "Загружаем папки из Google Drive на Colab"
      ],
      "metadata": {
        "id": "rsGRuTJcStlt"
      }
    },
    {
      "cell_type": "code",
      "source": [
        "import shutil\n",
        "from pathlib import Path\n",
        "import os\n",
        "\n",
        "MD_chm36m = Path(\"/content/gdrive/My Drive/MD_chm36m\")\n",
        "MD_amber = Path(\"/content/gdrive/My Drive/MD_amber\")\n",
        "\n",
        "shutil.copytree(str(MD_chm36m), str('/content/MD_chm36m'))\n",
        "shutil.copytree(str(MD_amber), str('/content/MD_amber'))"
      ],
      "metadata": {
        "id": "BXjMDY5nuZJO"
      },
      "execution_count": null,
      "outputs": []
    },
    {
      "cell_type": "markdown",
      "source": [
        "**FF Charmm (CHARMM36m)**\n",
        "\n",
        "https://doi.org/10.1038/nmeth.4067"
      ],
      "metadata": {
        "id": "XULzntKtvVS6"
      }
    },
    {
      "cell_type": "markdown",
      "source": [
        "Минимизация, уравновешивание"
      ],
      "metadata": {
        "id": "DKJDyUiVS4id"
      }
    },
    {
      "cell_type": "code",
      "source": [
        "%%bash\n",
        "\n",
        "source /content/gromacs-24/bin/GMXRC\n",
        "\n",
        "cd /content/MD_chm36m\n",
        "\n",
        "wget https://zenodo.org/records/10822792/files/min.mdp\n",
        "wget https://zenodo.org/records/10822792/files/eq_nvt_1fs.mdp\n",
        "wget https://zenodo.org/records/10822792/files/eq_npt_1fs.mdp\n",
        "wget https://zenodo.org/records/10822792/files/prod.mdp\n",
        "\n",
        "# Minimization\n",
        "gmx grompp -f min.mdp -c step3_input.gro -p topol.top -o min.tpr\n",
        "gmx mdrun -deffnm min -nb gpu\n",
        "\n",
        "#Thermalization and Equilibration\n",
        "# NVT\n",
        "gmx grompp -f eq_nvt_1fs.mdp -c min.gro -p topol.top -o eq_nvt_1fs.tpr -maxwarn 1\n",
        "gmx mdrun -deffnm eq_nvt_1fs -nb gpu\n",
        "# NPT\n",
        "gmx grompp -f eq_npt_1fs.mdp -c eq_nvt_1fs.gro -p topol.top -o eq_npt_1fs.tpr -maxwarn 2\n",
        "gmx mdrun -deffnm eq_npt_1fs -nb gpu"
      ],
      "metadata": {
        "id": "tnE85sPohJ31"
      },
      "execution_count": null,
      "outputs": []
    },
    {
      "cell_type": "markdown",
      "source": [
        "MD production (10 ns) ~ 25 минут"
      ],
      "metadata": {
        "id": "G3AncQSrhVk4"
      }
    },
    {
      "cell_type": "code",
      "source": [
        "%%bash\n",
        "\n",
        "source /content/gromacs-24/bin/GMXRC\n",
        "\n",
        "cd /content/MD_chm36m\n",
        "\n",
        "# Production\n",
        "gmx grompp -f prod.mdp -c eq_npt_1fs.gro -p topol.top -o prod.tpr\n",
        "gmx mdrun -deffnm prod -nb gpu # 10 ns"
      ],
      "metadata": {
        "id": "-oV7U1f4azSN"
      },
      "execution_count": null,
      "outputs": []
    },
    {
      "cell_type": "markdown",
      "source": [
        "Восстанавливаем целостность молекул на границе ячейки для дальнейших анализов"
      ],
      "metadata": {
        "id": "H3mzmo0ZTHvW"
      }
    },
    {
      "cell_type": "code",
      "source": [
        "%%bash\n",
        "\n",
        "source /content/gromacs-24/bin/GMXRC\n",
        "\n",
        "cd /content/MD_chm36m\n",
        "\n",
        "echo \"System\" >> options\n",
        "gmx trjconv -f prod.xtc -o prod.xtc -pbc mol -s prod.tpr < options"
      ],
      "metadata": {
        "id": "6B2-Y75-ivT0"
      },
      "execution_count": null,
      "outputs": []
    },
    {
      "cell_type": "markdown",
      "source": [
        "Создаём файл с индексами атомов, где они разбиты на группы"
      ],
      "metadata": {
        "id": "vTS8BGJfTfDP"
      }
    },
    {
      "cell_type": "code",
      "source": [
        "%%bash\n",
        "\n",
        "source /content/gromacs-24/bin/GMXRC\n",
        "\n",
        "cd /content/MD_chm36m\n",
        "\n",
        "echo \"q\" > options\n",
        "gmx make_ndx -f prod.gro -o ind.ndx < options"
      ],
      "metadata": {
        "id": "TKOFv56XibgY"
      },
      "execution_count": null,
      "outputs": []
    },
    {
      "cell_type": "markdown",
      "source": [
        "Анализируем RMSD определённой группы атомов относительно стартовой структуры (из Pymol)\n",
        "\n",
        "https://manual.gromacs.org/current/reference-manual/analysis/rmsd.html"
      ],
      "metadata": {
        "id": "0sTxho1kT3iE"
      }
    },
    {
      "cell_type": "code",
      "source": [
        "%%bash\n",
        "\n",
        "source /content/gromacs-24/bin/GMXRC\n",
        "\n",
        "cd /content/MD_chm36m\n",
        "\n",
        "echo \"Protein-H\" > options\n",
        "echo \"Protein-H\" >> options\n",
        "gmx rms -s min.tpr -f prod.xtc -n ind.ndx -o rmsd.xvg -fit rot+trans < options # rmsd дипептида (без водородов, т.е. только тяжёлые атомы) относительно стартовой структуры (из pymol)"
      ],
      "metadata": {
        "id": "sfBSGtpjiwLM"
      },
      "execution_count": null,
      "outputs": []
    },
    {
      "cell_type": "code",
      "source": [
        "%cd /content/MD_chm36m\n",
        "\n",
        "import numpy as np\n",
        "import matplotlib.pyplot as pp\n",
        "\n",
        "data = np.loadtxt('rmsd.xvg', skiprows=25)\n",
        "\n",
        "print('RMSD =',\"%.1f\" % np.mean(data[:,1]*10), '±', \"%.1f\" % np.std(data[:,1]*10), 'Å')\n",
        "\n",
        "pp.title('RMSD (Protein-H) = {} ± {} Å'.format(np.round(np.mean(data[:,1]*10),1), np.round(np.std(data[:,1]*10),1)))\n",
        "pp.xlabel('Time (ps)')\n",
        "pp.ylabel('RMSD (Å)')\n",
        "pp.plot(data[:,0], data[:,1]*10, linestyle='solid', linewidth='1', color='blue')\n",
        "pp.savefig('rmsd.png', dpi=300)\n",
        "pp.show()"
      ],
      "metadata": {
        "id": "clKwd25radZr"
      },
      "execution_count": null,
      "outputs": []
    },
    {
      "cell_type": "markdown",
      "source": [
        "Радиус гирации\n",
        "\n",
        "https://manual.gromacs.org/documentation/2019-rc1/reference-manual/analysis/radius-of-gyration.html"
      ],
      "metadata": {
        "id": "FDbyiUPrqxLk"
      }
    },
    {
      "cell_type": "code",
      "source": [
        "%%bash\n",
        "\n",
        "source /content/gromacs-24/bin/GMXRC\n",
        "\n",
        "cd /content/MD_chm36m\n",
        "\n",
        "echo \"2\" > options\n",
        "gmx gyrate -f prod.xtc -s prod.tpr -n ind.ndx -o gyrate.xvg < options"
      ],
      "metadata": {
        "id": "GYnZM3v0i1mE"
      },
      "execution_count": null,
      "outputs": []
    },
    {
      "cell_type": "code",
      "source": [
        "%cd /content/MD_chm36m\n",
        "\n",
        "import numpy as np\n",
        "import matplotlib.pyplot as pp\n",
        "\n",
        "data = np.loadtxt('gyrate.xvg', skiprows=27)\n",
        "\n",
        "print('Radius =',\"%.1f\" % np.mean(data[:,1]*10), '±', \"%.1f\" % np.std(data[:,1]*10), 'Å')\n",
        "\n",
        "pp.title('Radius of gyration (Protein-H) = {} ± {} Å'.format(np.round(np.mean(data[:,1]*10),1), np.round(np.std(data[:,1]*10),1)))\n",
        "pp.xlabel('Time (ps)')\n",
        "pp.ylabel(r'R$_g$ (Å)')\n",
        "pp.plot(data[:,0], data[:,1]*10, linestyle='solid', linewidth='1', color='blue')\n",
        "pp.savefig('radius.png', dpi=300)\n",
        "pp.show()"
      ],
      "metadata": {
        "id": "i84nDC_9iQQ9"
      },
      "execution_count": null,
      "outputs": []
    },
    {
      "cell_type": "markdown",
      "source": [
        "Диффузия\n",
        "\n",
        "https://manual.gromacs.org/current/reference-manual/analysis/mean-square-displacement.html"
      ],
      "metadata": {
        "id": "An-BnX2lrgTs"
      }
    },
    {
      "cell_type": "code",
      "source": [
        "%%bash\n",
        "\n",
        "source /content/gromacs-24/bin/GMXRC\n",
        "\n",
        "cd /content/MD_chm36m\n",
        "\n",
        "echo \"2\" > options\n",
        "gmx msd -f prod.xtc -s prod.tpr -n ind.ndx -pbc -o msd.xvg < options"
      ],
      "metadata": {
        "id": "_sH_UgTQi6mN"
      },
      "execution_count": null,
      "outputs": []
    },
    {
      "cell_type": "code",
      "source": [
        "%cd /content/MD_chm36m\n",
        "\n",
        "import numpy as np\n",
        "import matplotlib.pyplot as pp\n",
        "\n",
        "data = np.loadtxt('msd.xvg', skiprows=25)\n",
        "\n",
        "A = np.vstack([data[200:600,0], np.ones(len(data[200:600,0]))]).T\n",
        "y = data[200:600,1][:, np.newaxis]\n",
        "alpha = np.dot((np.dot(np.linalg.inv(np.dot(A.T,A)),A.T)),y)\n",
        "\n",
        "print('D = ',str(np.round(alpha[0][0]*1000/6,1)),'e-5 cm^2/s')\n",
        "\n",
        "pp.title('MSD (Protein-H) and Fit (2-8 ns), D = {} e-5 cm^2/s'.format(np.round(alpha[0][0]*1000/6,1)))\n",
        "pp.xlabel('Time lag (ps)')\n",
        "pp.ylabel(r'MSD (nm$^2$)')\n",
        "pp.plot(data[:,0], data[:,1], linestyle='solid', linewidth='1', color='blue', label=\"MSD\")\n",
        "pp.plot(data[:,0], alpha[0]*data[:,0] + alpha[1], linestyle='solid', linewidth='1', color='red', label=\"Least Squares Fit\")\n",
        "pp.legend()\n",
        "pp.savefig('msd.png', dpi=300)\n",
        "pp.show()"
      ],
      "metadata": {
        "id": "MuKoLq3Yp7U1"
      },
      "execution_count": null,
      "outputs": []
    },
    {
      "cell_type": "code",
      "source": [
        "import shutil\n",
        "from pathlib import Path\n",
        "import os\n",
        "\n",
        "MD_chm36m = Path(\"/content/gdrive/My Drive/MD_chm36m/\")\n",
        "\n",
        "shutil.copy(str('/content/MD_chm36m/min.gro'), str(MD_chm36m))\n",
        "shutil.copy(str('/content/MD_chm36m/prod.tpr'), str(MD_chm36m))\n",
        "shutil.copy(str('/content/MD_chm36m/prod.xtc'), str(MD_chm36m))\n",
        "shutil.copy(str('/content/MD_chm36m/ind.ndx'), str(MD_chm36m))\n",
        "\n",
        "shutil.copy(str('/content/MD_chm36m/rmsd.png'), str(MD_chm36m))\n",
        "shutil.copy(str('/content/MD_chm36m/radius.png'), str(MD_chm36m))\n",
        "shutil.copy(str('/content/MD_chm36m/msd.png'), str(MD_chm36m))\n",
        "\n",
        "# файлы могут не сразу появиться на Диске"
      ],
      "metadata": {
        "id": "_1IBj3r6jFw9"
      },
      "execution_count": null,
      "outputs": []
    },
    {
      "cell_type": "markdown",
      "source": [
        "**FF Amber (ff19SB)**\n",
        "\n",
        "https://chemrxiv.org/engage/api-gateway/chemrxiv/assets/orp/resource/item/60c7426b0f50db0f23395cd7/original/ff19sb-amino-acid-specific-protein-backbone-parameters-trained-against-quantum-mechanics-energy-surfaces-in-solution.pdf"
      ],
      "metadata": {
        "id": "sAnwMUp1ubKL"
      }
    },
    {
      "cell_type": "code",
      "source": [
        "%%bash\n",
        "\n",
        "source /content/gromacs-24/bin/GMXRC\n",
        "\n",
        "cd /content/MD_amber\n",
        "\n",
        "wget https://zenodo.org/records/10822792/files/min.mdp\n",
        "wget https://zenodo.org/records/10822792/files/eq_nvt_1fs.mdp\n",
        "wget https://zenodo.org/records/10822792/files/eq_npt_1fs.mdp\n",
        "wget https://zenodo.org/records/10822792/files/prod.mdp\n",
        "\n",
        "# Minimization\n",
        "gmx grompp -f min.mdp -c step3_input.gro -p topol.top -o min.tpr\n",
        "gmx mdrun -deffnm min -nb gpu\n",
        "\n",
        "#Thermalization and Equilibration\n",
        "# NVT\n",
        "gmx grompp -f eq_nvt_1fs.mdp -c min.gro -p topol.top -o eq_nvt_1fs.tpr -maxwarn 1\n",
        "gmx mdrun -deffnm eq_nvt_1fs -nb gpu\n",
        "# NPT\n",
        "gmx grompp -f eq_npt_1fs.mdp -c eq_nvt_1fs.gro -p topol.top -o eq_npt_1fs.tpr -maxwarn 2\n",
        "gmx mdrun -deffnm eq_npt_1fs -nb gpu"
      ],
      "metadata": {
        "id": "DY7I6plljQ41"
      },
      "execution_count": null,
      "outputs": []
    },
    {
      "cell_type": "markdown",
      "source": [
        "MD production (10 ns) ~ 40 минут"
      ],
      "metadata": {
        "id": "IekdmRNMp54R"
      }
    },
    {
      "cell_type": "code",
      "source": [
        "%%bash\n",
        "\n",
        "source /content/gromacs-24/bin/GMXRC\n",
        "\n",
        "cd /content/MD_amber\n",
        "\n",
        "# Production 10 ns\n",
        "gmx grompp -f prod.mdp -c eq_npt_1fs.gro -p topol.top -o prod.tpr\n",
        "gmx mdrun -deffnm prod -nb gpu"
      ],
      "metadata": {
        "id": "Vcfr3xkokbLe"
      },
      "execution_count": null,
      "outputs": []
    },
    {
      "cell_type": "code",
      "source": [
        "%%bash\n",
        "\n",
        "source /content/gromacs-24/bin/GMXRC\n",
        "\n",
        "cd /content/MD_amber\n",
        "\n",
        "echo \"System\" >> options\n",
        "gmx trjconv -f prod.xtc -o prod.xtc -pbc mol -s prod.tpr < options"
      ],
      "metadata": {
        "id": "zg9oL3whjjRF"
      },
      "execution_count": null,
      "outputs": []
    },
    {
      "cell_type": "code",
      "source": [
        "%%bash\n",
        "\n",
        "source /content/gromacs-24/bin/GMXRC\n",
        "\n",
        "cd /content/MD_amber\n",
        "\n",
        "echo \"q\" > options\n",
        "gmx make_ndx -f prod.gro -o ind.ndx < options"
      ],
      "metadata": {
        "id": "HFu3P3EckB2N"
      },
      "execution_count": null,
      "outputs": []
    },
    {
      "cell_type": "markdown",
      "source": [
        "Анализируем RMSD определённой группы атомов относительно стартовой структуры (из Pymol)\n",
        "\n",
        "https://manual.gromacs.org/current/reference-manual/analysis/rmsd.html"
      ],
      "metadata": {
        "id": "egiTIB9jEBoc"
      }
    },
    {
      "cell_type": "code",
      "source": [
        "%%bash\n",
        "\n",
        "source /content/gromacs-24/bin/GMXRC\n",
        "\n",
        "cd /content/MD_amber\n",
        "\n",
        "echo \"Protein-H\" > options\n",
        "echo \"Protein-H\" >> options\n",
        "gmx rms -s min.tpr -f prod.xtc -n ind.ndx -o rmsd.xvg -fit rot+trans < options # rmsd дипептида (без водородов, т.е. только тяжёлые атомы) относительно стартовой структуры (из pymol)"
      ],
      "metadata": {
        "id": "4ABOkQxhkCWl"
      },
      "execution_count": null,
      "outputs": []
    },
    {
      "cell_type": "code",
      "source": [
        "%cd /content/MD_amber\n",
        "\n",
        "import numpy as np\n",
        "import matplotlib.pyplot as pp\n",
        "\n",
        "data = np.loadtxt('rmsd.xvg', skiprows=25)\n",
        "\n",
        "print('RMSD =',\"%.1f\" % np.mean(data[:,1]*10), '±', \"%.1f\" % np.std(data[:,1]*10), 'Å')\n",
        "\n",
        "pp.title('RMSD (Protein-H) = {} ± {} Å'.format(np.round(np.mean(data[:,1]*10),1), np.round(np.std(data[:,1]*10),1)))\n",
        "pp.xlabel('Time (ps)')\n",
        "pp.ylabel('RMSD (Å)')\n",
        "pp.plot(data[:,0], data[:,1]*10, linestyle='solid', linewidth='1', color='blue')\n",
        "pp.savefig('rmsd.png', dpi=300)\n",
        "pp.show()"
      ],
      "metadata": {
        "id": "C7LqTwoFDjGl"
      },
      "execution_count": null,
      "outputs": []
    },
    {
      "cell_type": "markdown",
      "source": [
        "Радиус гирации\n",
        "\n",
        "https://manual.gromacs.org/documentation/2019-rc1/reference-manual/analysis/radius-of-gyration.html"
      ],
      "metadata": {
        "id": "ArZX_KBMD-x5"
      }
    },
    {
      "cell_type": "code",
      "source": [
        "%%bash\n",
        "\n",
        "source /content/gromacs-24/bin/GMXRC\n",
        "\n",
        "cd /content/MD_amber\n",
        "\n",
        "echo \"2\" > options\n",
        "gmx gyrate -f prod.xtc -s prod.tpr -n ind.ndx -o gyrate.xvg < options"
      ],
      "metadata": {
        "id": "8_1f8aqgkE0W"
      },
      "execution_count": null,
      "outputs": []
    },
    {
      "cell_type": "code",
      "source": [
        "%cd /content/MD_amber\n",
        "\n",
        "import numpy as np\n",
        "import matplotlib.pyplot as pp\n",
        "\n",
        "data = np.loadtxt('gyrate.xvg', skiprows=27)\n",
        "\n",
        "print('Radius =',\"%.1f\" % np.mean(data[:,1]*10), '±', \"%.1f\" % np.std(data[:,1]*10), 'Å')\n",
        "\n",
        "pp.title('Radius of gyration (Protein-H) = {} ± {} Å'.format(np.round(np.mean(data[:,1]*10),1), np.round(np.std(data[:,1]*10),1)))\n",
        "pp.xlabel('Time (ps)')\n",
        "pp.ylabel(r'R$_g$ (Å)')\n",
        "pp.plot(data[:,0], data[:,1]*10, linestyle='solid', linewidth='1', color='blue')\n",
        "pp.savefig('radius.png', dpi=300)\n",
        "pp.show()"
      ],
      "metadata": {
        "id": "KJXAyCf3DvtF"
      },
      "execution_count": null,
      "outputs": []
    },
    {
      "cell_type": "markdown",
      "source": [
        "Диффузия\n",
        "\n",
        "https://manual.gromacs.org/current/reference-manual/analysis/mean-square-displacement.html"
      ],
      "metadata": {
        "id": "qziGvcRiD_-9"
      }
    },
    {
      "cell_type": "code",
      "source": [
        "%%bash\n",
        "\n",
        "source /content/gromacs-24/bin/GMXRC\n",
        "\n",
        "cd /content/MD_amber\n",
        "\n",
        "echo \"2\" > options\n",
        "gmx msd -f prod.xtc -s prod.tpr -n ind.ndx -pbc -o msd.xvg < options"
      ],
      "metadata": {
        "id": "zMMgpbjkkHed"
      },
      "execution_count": null,
      "outputs": []
    },
    {
      "cell_type": "code",
      "source": [
        "%cd /content/MD_amber\n",
        "\n",
        "import numpy as np\n",
        "import matplotlib.pyplot as pp\n",
        "\n",
        "data = np.loadtxt('msd.xvg', skiprows=25)\n",
        "\n",
        "A = np.vstack([data[200:600,0], np.ones(len(data[200:600,0]))]).T\n",
        "y = data[200:600,1][:, np.newaxis]\n",
        "alpha = np.dot((np.dot(np.linalg.inv(np.dot(A.T,A)),A.T)),y)\n",
        "\n",
        "print('D = ',str(np.round(alpha[0][0]*1000/6,1)),'e-5 cm^2/s')\n",
        "\n",
        "pp.title('MSD (Protein-H) and Fit (2-8 ns), D = {} e-5 cm^2/s'.format(np.round(alpha[0][0]*1000/6,1)))\n",
        "pp.xlabel('Time lag (ps)')\n",
        "pp.ylabel(r'MSD (nm$^2$)')\n",
        "pp.plot(data[:,0], data[:,1], linestyle='solid', linewidth='1', color='blue', label=\"MSD\")\n",
        "pp.plot(data[:,0], alpha[0]*data[:,0] + alpha[1], linestyle='solid', linewidth='1', color='red', label=\"Least Squares Fit\")\n",
        "pp.legend()\n",
        "pp.savefig('msd.png', dpi=300)\n",
        "pp.show()"
      ],
      "metadata": {
        "id": "nJA8Aup8EMdY"
      },
      "execution_count": null,
      "outputs": []
    },
    {
      "cell_type": "code",
      "source": [
        "import shutil\n",
        "from pathlib import Path\n",
        "import os\n",
        "\n",
        "MD_amber = Path(\"/content/gdrive/My Drive/MD_amber\")\n",
        "\n",
        "shutil.copy(str('/content/MD_amber/min.gro'), str(MD_amber))\n",
        "shutil.copy(str('/content/MD_amber/prod.tpr'), str(MD_amber))\n",
        "shutil.copy(str('/content/MD_amber/prod.xtc'), str(MD_amber))\n",
        "shutil.copy(str('/content/MD_chm36m/ind.ndx'), str(MD_amber))\n",
        "\n",
        "shutil.copy(str('/content/MD_amber/rmsd.png'), str(MD_amber))\n",
        "shutil.copy(str('/content/MD_amber/radius.png'), str(MD_amber))\n",
        "shutil.copy(str('/content/MD_amber/msd.png'), str(MD_amber))"
      ],
      "metadata": {
        "id": "8KtWgskLkKtQ"
      },
      "execution_count": null,
      "outputs": []
    },
    {
      "cell_type": "markdown",
      "source": [
        "Перед отключением проверьте, что файлы появились на Google диске."
      ],
      "metadata": {
        "id": "jrmAusTjmIaz"
      }
    }
  ]
}